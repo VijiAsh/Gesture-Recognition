{
 "cells": [
  {
   "cell_type": "markdown",
   "metadata": {},
   "source": [
    "# Gesture Recognition\n",
    "In this group project, you are going to build a 3D Conv model that will be able to predict the 5 gestures correctly. Please import the following libraries to get started."
   ]
  },
  {
   "cell_type": "code",
   "execution_count": 1,
   "metadata": {},
   "outputs": [
    {
     "name": "stderr",
     "output_type": "stream",
     "text": [
      "Using TensorFlow backend.\n"
     ]
    }
   ],
   "source": [
    "import numpy as np\n",
    "import os\n",
    "#from scipy.misc import imread, imresize\n",
    "import cv2\n",
    "import datetime\n",
    "import os\n",
    "from PIL import Image\n",
    "from keras.models import Sequential, Model\n",
    "from keras.layers import Dense, GRU, Flatten, TimeDistributed, Flatten, BatchNormalization, Activation\n",
    "from keras.layers import Dropout, LSTM\n",
    "from keras.layers.convolutional import Conv3D, MaxPooling3D\n",
    "from keras.layers.convolutional import Conv2D, MaxPooling2D\n",
    "from keras.callbacks import ModelCheckpoint, ReduceLROnPlateau\n",
    "from keras import optimizers\n",
    "from keras import regularizers"
   ]
  },
  {
   "cell_type": "markdown",
   "metadata": {},
   "source": [
    "We set the random seed so that the results don't vary drastically."
   ]
  },
  {
   "cell_type": "code",
   "execution_count": 2,
   "metadata": {},
   "outputs": [],
   "source": [
    "np.random.seed(30)\n",
    "import random as rn\n",
    "rn.seed(30)\n",
    "from keras import backend as K\n",
    "import tensorflow as tf\n",
    "tf.set_random_seed(30)"
   ]
  },
  {
   "cell_type": "markdown",
   "metadata": {},
   "source": [
    "In this block, you read the folder names for training and validation. You also set the `batch_size` here. Note that you set the batch size in such a way that you are able to use the GPU in full capacity. You keep increasing the batch size until the machine throws an error."
   ]
  },
  {
   "cell_type": "code",
   "execution_count": 3,
   "metadata": {},
   "outputs": [],
   "source": [
    "train_doc = np.random.permutation(open('./train.csv').readlines())\n",
    "val_doc = np.random.permutation(open('./val.csv').readlines())\n",
    "\n",
    "batch_size = 16   #experiment with the batch size\n",
    "\n",
    "x = 15 #no of images\n",
    " \n",
    "y = 120  #Fixing the image size\n",
    "z = 120"
   ]
  },
  {
   "cell_type": "code",
   "execution_count": 4,
   "metadata": {},
   "outputs": [],
   "source": [
    "train_doc = np.random.permutation(open('./train.csv').readlines())\n",
    "val_doc = np.random.permutation(open('./val.csv').readlines())"
   ]
  },
  {
   "cell_type": "markdown",
   "metadata": {},
   "source": [
    "## Generator\n",
    "This is one of the most important part of the code. The overall structure of the generator has been given. In the generator, you are going to preprocess the images as you have images of 2 different dimensions as well as create a batch of video frames. You have to experiment with `img_idx`, `y`,`z` and normalization such that you get high accuracy."
   ]
  },
  {
   "cell_type": "code",
   "execution_count": 5,
   "metadata": {},
   "outputs": [],
   "source": [
    "def crop_img(img):\n",
    "    if img.shape[0] != img.shape[1]:\n",
    "        img=img[0:120,10:150]\n",
    "    return img\n",
    "\n",
    "#normalize image\n",
    "def normalize_image(img):\n",
    "    return (img/255)\n"
   ]
  },
  {
   "cell_type": "code",
   "execution_count": 6,
   "metadata": {},
   "outputs": [],
   "source": [
    "def generator_3D(source_path, folder_list, batch_size):\n",
    "    print( 'Source path = ', source_path, '; batch size =', batch_size)\n",
    "    img_idx = [frame for frame in range(x)] #create a list of image numbers you want to use for a particular video\n",
    "    while True:\n",
    "        t = np.random.permutation(folder_list)\n",
    "        num_batches = int(len(folder_list)/batch_size)\n",
    "        for batch in range(num_batches): # we iterate over the number of batches\n",
    "            batch_data = np.zeros((batch_size,x,y,z,3)) # x is the number of images you use for each video, (y,z) is the final size of the input images and 3 is the number of channels RGB\n",
    "            batch_labels = np.zeros((batch_size,5)) # batch_labels is the one hot representation of the output\n",
    "            for folder in range(batch_size): # iterate over the batch_size\n",
    "                imgs = os.listdir(source_path+'/'+ t[folder + (batch*batch_size)].split(';')[0]) # read all the images in the folder\n",
    "                for idx,item in enumerate(img_idx): #  Iterate iver the frames/images of a folder to read them in\n",
    "                    \n",
    "                    image = cv2.imread(source_path+'/'+ t[folder + (batch*batch_size)].strip().split(';')[0]+'/'+imgs[item]).astype(np.float32)\n",
    "                    \n",
    "                    #crop the images and resize them. Note that the images are of 2 different shape \n",
    "                    #and the conv3D will throw error if the inputs in a batch have different shapes\n",
    "                    \n",
    "                    \n",
    "                    cropped_image = crop_img(image)\n",
    "                    resized_image = cv2.resize(cropped_image, (120,120), interpolation = cv2.INTER_CUBIC)\n",
    "                    normalized_image = normalize_image(resized_image)\n",
    "                    \n",
    "                    batch_data[folder,idx,:,:,0] = normalized_image[:,:,0] #normalise and feed in the image\n",
    "                    batch_data[folder,idx,:,:,1] = normalized_image[:,:,1] #normalise and feed in the image\n",
    "                    batch_data[folder,idx,:,:,2] = normalized_image[:,:,2] #normalise and feed in the image\n",
    "                    \n",
    "                batch_labels[folder, int(t[folder + (batch*batch_size)].strip().split(';')[2])] = 1\n",
    "            yield batch_data, batch_labels #you yield the batch_data and the batch_labels, remember what does yield do\n",
    "        \n",
    "        # write the code for the remaining data points which are left after full batches\n",
    "        \n",
    "        remaining_list = len(folder_list); #56\n",
    "        if(remaining_list != num_batches*batch_size ):\n",
    "            print(\"Batch: \",num_batches+1,\"Index:\", batch_size)\n",
    "            num_batches = remaining_list - (batch_size*num_batches)           \n",
    "            for batch in range(num_batches):\n",
    "                # we iterate over the number of batches\n",
    "                batch_data = np.zeros((batch_size,x,y,z,3)) # x is the number of images you use for each video, (y,z) is the final size of the input images and 3 is the number of channels RGB\n",
    "                batch_labels = np.zeros((batch_size,5)) # batch_labels is the one hot representation of the output\n",
    "                for folder in range(batch_size): # iterate over the batch_size\n",
    "                    imgs = os.listdir(source_path+'/'+ t[folder + (batch*batch_size)].split(';')[0]) # read all the images in the folder\n",
    "                    for idx,item in enumerate(img_idx): #  Iterate iver the frames/images of a folder to read them in\n",
    "\n",
    "                        image = cv2.imread(source_path+'/'+ t[folder + (batch*batch_size)].strip().split(';')[0]+'/'+imgs[item]).astype(np.float32)\n",
    "\n",
    "                        #crop the images and resize them. Note that the images are of 2 different shape \n",
    "                        #and the conv3D will throw error if the inputs in a batch have different shapes\n",
    "\n",
    "                        cropped_image = crop_img(image)\n",
    "                        resized_image = cv2.resize(cropped_image, (120,120), interpolation = cv2.INTER_CUBIC)\n",
    "                        normalized_image = normalize_image(resized_image)\n",
    "\n",
    "                        batch_data[folder,idx,:,:,0] = normalized_image[:,:,0] #normalise and feed in the image\n",
    "                        batch_data[folder,idx,:,:,1] = normalized_image[:,:,1] #normalise and feed in the image\n",
    "                        batch_data[folder,idx,:,:,2] = normalized_image[:,:,2] #normalise and feed in the image\n",
    "\n",
    "                    batch_labels[folder, int(t[folder + (batch*batch_size)].strip().split(';')[2])] = 1\n",
    "                yield batch_data, batch_labels #you yield the batch_data and the batch_labels, remember what does yield do"
   ]
  },
  {
   "cell_type": "markdown",
   "metadata": {},
   "source": [
    "Note here that a video is represented above in the generator as (number of images, height, width, number of channels). Take this into consideration while creating the model architecture."
   ]
  },
  {
   "cell_type": "code",
   "execution_count": 7,
   "metadata": {},
   "outputs": [
    {
     "name": "stdout",
     "output_type": "stream",
     "text": [
      "# training sequences = 663\n",
      "# validation sequences = 100\n",
      "# epochs = 25\n"
     ]
    }
   ],
   "source": [
    "curr_dt_time = datetime.datetime.now()\n",
    "train_path = './train'\n",
    "val_path = './val'\n",
    "num_train_sequences = len(train_doc)\n",
    "print('# training sequences =', num_train_sequences)\n",
    "num_val_sequences = len(val_doc)\n",
    "print('# validation sequences =', num_val_sequences)\n",
    "num_epochs = 25\n",
    "print ('# epochs =', num_epochs)"
   ]
  },
  {
   "cell_type": "code",
   "execution_count": 8,
   "metadata": {},
   "outputs": [],
   "source": [
    "if (num_train_sequences%batch_size) == 0:\n",
    "    steps_per_epoch = int(num_train_sequences/batch_size)\n",
    "else:\n",
    "    steps_per_epoch = (num_train_sequences//batch_size) + 1\n",
    "\n",
    "if (num_val_sequences%batch_size) == 0:\n",
    "    validation_steps = int(num_val_sequences/batch_size)\n",
    "else:\n",
    "    validation_steps = (num_val_sequences//batch_size) + 1"
   ]
  },
  {
   "cell_type": "markdown",
   "metadata": {},
   "source": [
    "### Model: Conv3D-CNN\n"
   ]
  },
  {
   "cell_type": "code",
   "execution_count": 9,
   "metadata": {},
   "outputs": [],
   "source": [
    "num_classes = 5\n",
    "no_of_Frames= 3\n",
    "model2 = Sequential()\n",
    "model2.add(Conv3D(8, (3,3,3), activation='relu', input_shape=(15,120,120,3)))\n",
    "\n",
    "model2.add(MaxPooling3D(pool_size=(1, 2, 2), strides=(1, 2, 2)))\n",
    "model2.add(Conv3D(16, (3,3,3), activation='relu'))\n",
    "model2.add(MaxPooling3D(pool_size=(1, 2, 2), strides=(1, 2, 2)))\n",
    "model2.add(Conv3D(32, (3,3,3), activation='relu'))\n",
    "model2.add(MaxPooling3D(pool_size=(1, 2, 2), strides=(1, 2, 2)))\n",
    "model2.add(Conv3D(64, (2,2,2), activation='relu'))\n",
    "model2.add(MaxPooling3D(pool_size=(1, 2, 2), strides=(1, 2, 2)))\n",
    "\n",
    "model2.add(Flatten())\n",
    "model2.add(Dense(256))\n",
    "model2.add(Dropout(0.5))\n",
    "model2.add(Dense(512))\n",
    "model2.add(Dropout(0.5))\n",
    "\n",
    "model2.add(Dense(num_classes, activation='softmax'))\n"
   ]
  },
  {
   "cell_type": "markdown",
   "metadata": {},
   "source": [
    "### Model 2 (Conv3D-CNN) Summary"
   ]
  },
  {
   "cell_type": "code",
   "execution_count": 10,
   "metadata": {},
   "outputs": [
    {
     "name": "stdout",
     "output_type": "stream",
     "text": [
      "_________________________________________________________________\n",
      "Layer (type)                 Output Shape              Param #   \n",
      "=================================================================\n",
      "conv3d_1 (Conv3D)            (None, 13, 118, 118, 8)   656       \n",
      "_________________________________________________________________\n",
      "max_pooling3d_1 (MaxPooling3 (None, 13, 59, 59, 8)     0         \n",
      "_________________________________________________________________\n",
      "conv3d_2 (Conv3D)            (None, 11, 57, 57, 16)    3472      \n",
      "_________________________________________________________________\n",
      "max_pooling3d_2 (MaxPooling3 (None, 11, 28, 28, 16)    0         \n",
      "_________________________________________________________________\n",
      "conv3d_3 (Conv3D)            (None, 9, 26, 26, 32)     13856     \n",
      "_________________________________________________________________\n",
      "max_pooling3d_3 (MaxPooling3 (None, 9, 13, 13, 32)     0         \n",
      "_________________________________________________________________\n",
      "conv3d_4 (Conv3D)            (None, 8, 12, 12, 64)     16448     \n",
      "_________________________________________________________________\n",
      "max_pooling3d_4 (MaxPooling3 (None, 8, 6, 6, 64)       0         \n",
      "_________________________________________________________________\n",
      "flatten_1 (Flatten)          (None, 18432)             0         \n",
      "_________________________________________________________________\n",
      "dense_1 (Dense)              (None, 256)               4718848   \n",
      "_________________________________________________________________\n",
      "dropout_1 (Dropout)          (None, 256)               0         \n",
      "_________________________________________________________________\n",
      "dense_2 (Dense)              (None, 512)               131584    \n",
      "_________________________________________________________________\n",
      "dropout_2 (Dropout)          (None, 512)               0         \n",
      "_________________________________________________________________\n",
      "dense_3 (Dense)              (None, 5)                 2565      \n",
      "=================================================================\n",
      "Total params: 4,887,429\n",
      "Trainable params: 4,887,429\n",
      "Non-trainable params: 0\n",
      "_________________________________________________________________\n",
      "None\n"
     ]
    }
   ],
   "source": [
    "\n",
    "optimiser = optimizers.SGD(lr=0.01,nesterov=True)\n",
    "model2.compile(optimizer=optimiser, loss='categorical_crossentropy', metrics=['categorical_accuracy'])\n",
    "print (model2.summary())"
   ]
  },
  {
   "cell_type": "code",
   "execution_count": 11,
   "metadata": {},
   "outputs": [],
   "source": [
    "train_generator = generator_3D(train_path, train_doc, batch_size)\n",
    "val_generator = generator_3D(val_path, val_doc, batch_size)"
   ]
  },
  {
   "cell_type": "code",
   "execution_count": 12,
   "metadata": {},
   "outputs": [],
   "source": [
    "model_name = 'Conv3D_CNN' + '_' + str(curr_dt_time).replace(' ','').replace(':','_') + '/'\n",
    "    \n",
    "if not os.path.exists(model_name):\n",
    "    os.mkdir(model_name)\n",
    "        \n",
    "filepath = model_name + 'model-{epoch:05d}-{loss:.5f}-{categorical_accuracy:.5f}-{val_loss:.5f}-{val_categorical_accuracy:.5f}.h5'\n",
    "\n",
    "checkpoint = ModelCheckpoint(filepath, monitor='val_loss', verbose=1, save_best_only=True, save_weights_only=False, mode='auto', period=1)\n",
    "\n",
    "LR = ReduceLROnPlateau(monitor='val_loss', factor=0.02, verbose=1, patience=3)  # write the REducelronplateau code here\n",
    "callbacks_list = [checkpoint, LR]"
   ]
  },
  {
   "cell_type": "code",
   "execution_count": 13,
   "metadata": {},
   "outputs": [
    {
     "name": "stdout",
     "output_type": "stream",
     "text": [
      "Source path =  ./val ; batch size = 16\n",
      "Source path =  ./train ; batch size = 16\n",
      "Epoch 1/25\n",
      "Batch:  7 Index: 16\n",
      "40/42 [===========================>..] - ETA: 1s - loss: 1.6014 - categorical_accuracy: 0.2437Batch:  42 Index: 16\n",
      "42/42 [==============================] - 25s 589ms/step - loss: 1.6016 - categorical_accuracy: 0.2411 - val_loss: 1.5707 - val_categorical_accuracy: 0.2679\n",
      "\n",
      "Epoch 00001: val_loss improved from inf to 1.57072, saving model to Conv3D_CNN_2020-05-0407_40_21.657448/model-00001-1.60158-0.24107-1.57072-0.26786.h5\n",
      "Epoch 2/25\n",
      " 7/42 [====>.........................] - ETA: 15s - loss: 1.6072 - categorical_accuracy: 0.1607Batch:  7 Index: 16\n",
      "42/42 [==============================] - 22s 530ms/step - loss: 1.5960 - categorical_accuracy: 0.2143 - val_loss: 1.5831 - val_categorical_accuracy: 0.4196\n",
      "\n",
      "Epoch 00002: val_loss did not improve from 1.57072\n",
      "Epoch 3/25\n",
      " 4/42 [=>............................] - ETA: 16s - loss: 1.5821 - categorical_accuracy: 0.2656Batch:  42 Index: 16\n",
      "42/42 [==============================] - 24s 563ms/step - loss: 1.5709 - categorical_accuracy: 0.2634 - val_loss: 1.5287 - val_categorical_accuracy: 0.3036\n",
      "\n",
      "Epoch 00003: val_loss improved from 1.57072 to 1.52872, saving model to Conv3D_CNN_2020-05-0407_40_21.657448/model-00003-1.57089-0.26339-1.52872-0.30357.h5\n",
      "Epoch 4/25\n",
      " 2/42 [>.............................] - ETA: 10s - loss: 1.5805 - categorical_accuracy: 0.2500Batch:  7 Index: 16\n",
      "10/42 [======>.......................] - ETA: 14s - loss: 1.5711 - categorical_accuracy: 0.2437Batch:  42 Index: 16\n",
      "42/42 [==============================] - 23s 539ms/step - loss: 1.5551 - categorical_accuracy: 0.2887 - val_loss: 1.5433 - val_categorical_accuracy: 0.5000\n",
      "\n",
      "Epoch 00004: val_loss did not improve from 1.52872\n",
      "Epoch 5/25\n",
      " 5/42 [==>...........................] - ETA: 16s - loss: 1.5449 - categorical_accuracy: 0.3000Batch:  7 Index: 16\n",
      "16/42 [==========>...................] - ETA: 13s - loss: 1.5330 - categorical_accuracy: 0.3164Batch:  42 Index: 16\n",
      "42/42 [==============================] - 23s 544ms/step - loss: 1.5038 - categorical_accuracy: 0.3557 - val_loss: 1.4478 - val_categorical_accuracy: 0.2946\n",
      "\n",
      "Epoch 00005: val_loss improved from 1.52872 to 1.44781, saving model to Conv3D_CNN_2020-05-0407_40_21.657448/model-00005-1.50381-0.35565-1.44781-0.29464.h5\n",
      "Epoch 6/25\n",
      "22/42 [==============>...............] - ETA: 10s - loss: 1.5024 - categorical_accuracy: 0.3239Batch:  42 Index: 16\n",
      "42/42 [==============================] - 23s 542ms/step - loss: 1.4882 - categorical_accuracy: 0.3482 - val_loss: 1.4954 - val_categorical_accuracy: 0.4375\n",
      "\n",
      "Epoch 00006: val_loss did not improve from 1.44781\n",
      "Epoch 7/25\n",
      "Batch:  7 Index: 16\n",
      "28/42 [===================>..........] - ETA: 7s - loss: 1.4534 - categorical_accuracy: 0.4040Batch:  42 Index: 16\n",
      "42/42 [==============================] - 23s 541ms/step - loss: 1.4314 - categorical_accuracy: 0.4107 - val_loss: 1.3794 - val_categorical_accuracy: 0.4018\n",
      "\n",
      "Epoch 00007: val_loss improved from 1.44781 to 1.37937, saving model to Conv3D_CNN_2020-05-0407_40_21.657448/model-00007-1.43139-0.41071-1.37937-0.40179.h5\n",
      "Epoch 8/25\n",
      " 4/42 [=>............................] - ETA: 16s - loss: 1.3379 - categorical_accuracy: 0.4219Batch:  7 Index: 16\n",
      "34/42 [=======================>......] - ETA: 4s - loss: 1.3803 - categorical_accuracy: 0.4191Batch:  42 Index: 16\n",
      "42/42 [==============================] - 23s 540ms/step - loss: 1.3811 - categorical_accuracy: 0.4226 - val_loss: 1.3209 - val_categorical_accuracy: 0.4554\n",
      "\n",
      "Epoch 00008: val_loss improved from 1.37937 to 1.32090, saving model to Conv3D_CNN_2020-05-0407_40_21.657448/model-00008-1.38114-0.42262-1.32090-0.45536.h5\n",
      "Epoch 9/25\n",
      "40/42 [===========================>..] - ETA: 1s - loss: 1.3262 - categorical_accuracy: 0.4484Batch:  42 Index: 16\n",
      "41/42 [============================>.] - ETA: 0s - loss: 1.3248 - categorical_accuracy: 0.4482Batch:  7 Index: 16\n",
      "42/42 [==============================] - 22s 533ms/step - loss: 1.3201 - categorical_accuracy: 0.4568 - val_loss: 1.1982 - val_categorical_accuracy: 0.4643\n",
      "\n",
      "Epoch 00009: val_loss improved from 1.32090 to 1.19820, saving model to Conv3D_CNN_2020-05-0407_40_21.657448/model-00009-1.32011-0.45685-1.19820-0.46429.h5\n",
      "Epoch 10/25\n",
      "42/42 [==============================] - 23s 541ms/step - loss: 1.3591 - categorical_accuracy: 0.4226 - val_loss: 1.1618 - val_categorical_accuracy: 0.5536\n",
      "\n",
      "Epoch 00010: val_loss improved from 1.19820 to 1.16181, saving model to Conv3D_CNN_2020-05-0407_40_21.657448/model-00010-1.35910-0.42262-1.16181-0.55357.h5\n",
      "Epoch 11/25\n",
      " 3/42 [=>............................] - ETA: 14s - loss: 1.2944 - categorical_accuracy: 0.5208Batch:  7 Index: 16\n",
      " 4/42 [=>............................] - ETA: 15s - loss: 1.2561 - categorical_accuracy: 0.5000Batch:  42 Index: 16\n",
      "42/42 [==============================] - 23s 539ms/step - loss: 1.1907 - categorical_accuracy: 0.5179 - val_loss: 1.3496 - val_categorical_accuracy: 0.3750\n",
      "\n",
      "Epoch 00011: val_loss did not improve from 1.16181\n",
      "Epoch 12/25\n",
      " 6/42 [===>..........................] - ETA: 17s - loss: 1.1569 - categorical_accuracy: 0.5417Batch:  7 Index: 16\n",
      "10/42 [======>.......................] - ETA: 16s - loss: 1.1519 - categorical_accuracy: 0.5312Batch:  42 Index: 16\n",
      "42/42 [==============================] - 23s 546ms/step - loss: 1.1530 - categorical_accuracy: 0.5446 - val_loss: 1.0814 - val_categorical_accuracy: 0.5893\n",
      "\n",
      "Epoch 00012: val_loss improved from 1.16181 to 1.08138, saving model to Conv3D_CNN_2020-05-0407_40_21.657448/model-00012-1.15300-0.54464-1.08138-0.58929.h5\n",
      "Epoch 13/25\n",
      "16/42 [==========>...................] - ETA: 12s - loss: 1.0631 - categorical_accuracy: 0.5547Batch:  42 Index: 16\n",
      "42/42 [==============================] - 22s 531ms/step - loss: 1.0712 - categorical_accuracy: 0.5714 - val_loss: 1.2066 - val_categorical_accuracy: 0.4732\n",
      "\n",
      "Epoch 00013: val_loss did not improve from 1.08138\n",
      "Epoch 14/25\n",
      " 1/42 [..............................] - ETA: 10s - loss: 1.2353 - categorical_accuracy: 0.5625Batch:  7 Index: 16\n",
      "22/42 [==============>...............] - ETA: 10s - loss: 1.1084 - categorical_accuracy: 0.5625Batch:  42 Index: 16\n",
      "42/42 [==============================] - 23s 537ms/step - loss: 1.1158 - categorical_accuracy: 0.5565 - val_loss: 0.9706 - val_categorical_accuracy: 0.6339\n",
      "\n",
      "Epoch 00014: val_loss improved from 1.08138 to 0.97060, saving model to Conv3D_CNN_2020-05-0407_40_21.657448/model-00014-1.11577-0.55655-0.97060-0.63393.h5\n",
      "Epoch 15/25\n",
      " 5/42 [==>...........................] - ETA: 15s - loss: 0.9184 - categorical_accuracy: 0.6625Batch:  7 Index: 16\n",
      "28/42 [===================>..........] - ETA: 7s - loss: 0.9669 - categorical_accuracy: 0.5982Batch:  42 Index: 16\n",
      "42/42 [==============================] - 22s 534ms/step - loss: 0.9663 - categorical_accuracy: 0.6042 - val_loss: 0.8642 - val_categorical_accuracy: 0.6786\n",
      "\n",
      "Epoch 00015: val_loss improved from 0.97060 to 0.86418, saving model to Conv3D_CNN_2020-05-0407_40_21.657448/model-00015-0.96629-0.60417-0.86418-0.67857.h5\n",
      "Epoch 16/25\n",
      "34/42 [=======================>......] - ETA: 4s - loss: 0.9367 - categorical_accuracy: 0.6324Batch:  42 Index: 16\n",
      "41/42 [============================>.] - ETA: 0s - loss: 0.9322 - categorical_accuracy: 0.6296Batch:  7 Index: 16\n",
      "42/42 [==============================] - 22s 534ms/step - loss: 0.9284 - categorical_accuracy: 0.6295 - val_loss: 0.8968 - val_categorical_accuracy: 0.7054\n",
      "\n",
      "Epoch 00016: val_loss did not improve from 0.86418\n",
      "Epoch 17/25\n",
      "40/42 [===========================>..] - ETA: 1s - loss: 0.9554 - categorical_accuracy: 0.6156Batch:  42 Index: 16\n",
      "42/42 [==============================] - 22s 534ms/step - loss: 0.9522 - categorical_accuracy: 0.6190 - val_loss: 0.8464 - val_categorical_accuracy: 0.6786\n",
      "\n",
      "Epoch 00017: val_loss improved from 0.86418 to 0.84642, saving model to Conv3D_CNN_2020-05-0407_40_21.657448/model-00017-0.95224-0.61905-0.84642-0.67857.h5\n",
      "Epoch 18/25\n",
      " 5/42 [==>...........................] - ETA: 13s - loss: 0.8127 - categorical_accuracy: 0.7250Batch:  7 Index: 16\n",
      "42/42 [==============================] - 22s 522ms/step - loss: 0.7786 - categorical_accuracy: 0.7173 - val_loss: 0.9767 - val_categorical_accuracy: 0.6429\n",
      "\n",
      "Epoch 00018: val_loss did not improve from 0.84642\n",
      "Epoch 19/25\n"
     ]
    },
    {
     "name": "stdout",
     "output_type": "stream",
     "text": [
      " 4/42 [=>............................] - ETA: 15s - loss: 0.8853 - categorical_accuracy: 0.6562Batch:  42 Index: 16\n",
      "41/42 [============================>.] - ETA: 0s - loss: 0.7239 - categorical_accuracy: 0.7454Batch:  7 Index: 16\n",
      "42/42 [==============================] - 22s 526ms/step - loss: 0.7207 - categorical_accuracy: 0.7470 - val_loss: 0.7990 - val_categorical_accuracy: 0.7143\n",
      "\n",
      "Epoch 00019: val_loss improved from 0.84642 to 0.79898, saving model to Conv3D_CNN_2020-05-0407_40_21.657448/model-00019-0.72072-0.74702-0.79898-0.71429.h5\n",
      "Epoch 20/25\n",
      "10/42 [======>.......................] - ETA: 16s - loss: 0.9267 - categorical_accuracy: 0.6375Batch:  42 Index: 16\n",
      "42/42 [==============================] - 23s 550ms/step - loss: 0.7278 - categorical_accuracy: 0.7426 - val_loss: 1.7037 - val_categorical_accuracy: 0.4196\n",
      "\n",
      "Epoch 00020: val_loss did not improve from 0.79898\n",
      "Epoch 21/25\n",
      " 3/42 [=>............................] - ETA: 14s - loss: 1.1060 - categorical_accuracy: 0.5000Batch:  7 Index: 16\n",
      "16/42 [==========>...................] - ETA: 13s - loss: 0.7792 - categorical_accuracy: 0.7031Batch:  42 Index: 16\n",
      "42/42 [==============================] - 23s 542ms/step - loss: 0.6726 - categorical_accuracy: 0.7560 - val_loss: 0.7540 - val_categorical_accuracy: 0.6964\n",
      "\n",
      "Epoch 00021: val_loss improved from 0.79898 to 0.75399, saving model to Conv3D_CNN_2020-05-0407_40_21.657448/model-00021-0.67256-0.75595-0.75399-0.69643.h5\n",
      "Epoch 22/25\n",
      " 7/42 [====>.........................] - ETA: 16s - loss: 0.5854 - categorical_accuracy: 0.7679Batch:  7 Index: 16\n",
      "22/42 [==============>...............] - ETA: 10s - loss: 0.5498 - categorical_accuracy: 0.8125Batch:  42 Index: 16\n",
      "42/42 [==============================] - 22s 534ms/step - loss: 0.5891 - categorical_accuracy: 0.7768 - val_loss: 0.9748 - val_categorical_accuracy: 0.7143\n",
      "\n",
      "Epoch 00022: val_loss did not improve from 0.75399\n",
      "Epoch 23/25\n",
      "28/42 [===================>..........] - ETA: 7s - loss: 0.5416 - categorical_accuracy: 0.8013Batch:  42 Index: 16\n",
      "42/42 [==============================] - 22s 534ms/step - loss: 0.4677 - categorical_accuracy: 0.8304 - val_loss: 1.0068 - val_categorical_accuracy: 0.6250\n",
      "\n",
      "Epoch 00023: val_loss did not improve from 0.75399\n",
      "Epoch 24/25\n",
      " 2/42 [>.............................] - ETA: 13s - loss: 0.4643 - categorical_accuracy: 0.8125Batch:  7 Index: 16\n",
      "34/42 [=======================>......] - ETA: 4s - loss: 0.4820 - categorical_accuracy: 0.8254Batch:  42 Index: 16\n",
      "42/42 [==============================] - 23s 537ms/step - loss: 0.4524 - categorical_accuracy: 0.8363 - val_loss: 0.7458 - val_categorical_accuracy: 0.7679\n",
      "\n",
      "Epoch 00024: val_loss improved from 0.75399 to 0.74583, saving model to Conv3D_CNN_2020-05-0407_40_21.657448/model-00024-0.45236-0.83631-0.74583-0.76786.h5\n",
      "Epoch 25/25\n",
      " 6/42 [===>..........................] - ETA: 16s - loss: 0.3340 - categorical_accuracy: 0.8646Batch:  7 Index: 16\n",
      "40/42 [===========================>..] - ETA: 1s - loss: 0.3606 - categorical_accuracy: 0.8594Batch:  42 Index: 16\n",
      "42/42 [==============================] - 23s 536ms/step - loss: 0.3531 - categorical_accuracy: 0.8631 - val_loss: 0.7429 - val_categorical_accuracy: 0.7411\n",
      "\n",
      "Epoch 00025: val_loss improved from 0.74583 to 0.74286, saving model to Conv3D_CNN_2020-05-0407_40_21.657448/model-00025-0.35310-0.86310-0.74286-0.74107.h5\n"
     ]
    },
    {
     "data": {
      "text/plain": [
       "<keras.callbacks.History at 0x7f37f1a78d30>"
      ]
     },
     "execution_count": 13,
     "metadata": {},
     "output_type": "execute_result"
    }
   ],
   "source": [
    "model2.fit_generator(train_generator, steps_per_epoch=steps_per_epoch, epochs=num_epochs, verbose=1, \n",
    "                    callbacks=callbacks_list, validation_data=val_generator, \n",
    "                    validation_steps=validation_steps, class_weight=None, workers=1, initial_epoch=0)"
   ]
  },
  {
   "cell_type": "markdown",
   "metadata": {},
   "source": [
    "##### categorical_accuracy: 0.8631\n",
    "##### val_categorical_accuracy: 0.7411\n"
   ]
  }
 ],
 "metadata": {
  "kernelspec": {
   "display_name": "Python 3",
   "language": "python",
   "name": "python3"
  },
  "language_info": {
   "codemirror_mode": {
    "name": "ipython",
    "version": 3
   },
   "file_extension": ".py",
   "mimetype": "text/x-python",
   "name": "python",
   "nbconvert_exporter": "python",
   "pygments_lexer": "ipython3",
   "version": "3.6.8"
  }
 },
 "nbformat": 4,
 "nbformat_minor": 2
}
